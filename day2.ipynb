{
 "cells": [
  {
   "cell_type": "code",
   "execution_count": 1,
   "metadata": {},
   "outputs": [
    {
     "name": "stdout",
     "output_type": "stream",
     "text": [
      "639\n"
     ]
    }
   ],
   "source": [
    "ans=0\n",
    "with open('Input_Day2.txt', 'r') as file:\n",
    "    # Read each line in the file\n",
    "    for line in file:\n",
    "        splitline= line.split(\" \")\n",
    "        for i in range(len(splitline)):\n",
    "            splitline[i] = int(splitline[i])\n",
    "        safe = True\n",
    "        ascending = splitline[0] < splitline[1]\n",
    "        for i in range(len(splitline)):\n",
    "            if(i == 0): \n",
    "                continue\n",
    "            if(ascending and splitline[i-1] >= splitline[i] or abs(splitline[i-1] - splitline[i]) > 3):\n",
    "                safe=False\n",
    "                break\n",
    "            elif(not ascending and splitline[i-1] <= splitline[i] or abs(splitline[i-1] - splitline[i]) > 3):\n",
    "                safe=False\n",
    "                break\n",
    "        if(safe):ans+=1\n",
    "print(ans)"
   ]
  },
  {
   "cell_type": "code",
   "execution_count": null,
   "metadata": {},
   "outputs": [],
   "source": [
    "def listIsSafe(list):\n",
    "    asc = all((list[i] < list[i+1] and abs(list[i] - list[i+1]) <= 3) for i in range(len(list) - 1))\n",
    "    desc = all((list[i] > list[i+1] and abs(list[i] - list[i+1]) <= 3) for i in range(len(list) - 1))\n",
    "    #asc = list==sorted(list)\n",
    "    #desc = list==sorted(list, reverse = True)\n",
    "    return (asc or desc)\n"
   ]
  },
  {
   "cell_type": "code",
   "execution_count": null,
   "metadata": {},
   "outputs": [
    {
     "name": "stdout",
     "output_type": "stream",
     "text": [
      "[22, 25, 27, 28, 30, 31, 32, 29]\n",
      "[72, 74, 75, 77, 80, 81, 81]\n",
      "[52, 53, 55, 58, 59, 63]\n",
      "[14, 17, 19, 22, 27]\n",
      "[65, 68, 67, 68, 71, 73, 76, 77]\n",
      "[29, 32, 32, 33, 36, 39, 40]\n",
      "[63, 62, 65, 66, 69, 70, 72]\n",
      "[55, 55, 57, 58, 59, 62, 65, 68]\n",
      "[23, 27, 30, 32, 33]\n",
      "[1, 5, 4, 7, 9, 10, 11]\n",
      "[21, 27, 29, 30, 31]\n",
      "[99, 96, 94, 91, 90, 87, 88]\n",
      "[85, 84, 81, 80, 79, 78, 78]\n",
      "[25, 22, 21, 19, 16, 12]\n",
      "[43, 42, 41, 40, 38, 32]\n",
      "[87, 85, 83, 83, 82, 79]\n",
      "[83, 84, 82, 80, 78, 75, 74]\n",
      "[23, 26, 22, 20, 18, 16, 13]\n",
      "[71, 74, 69, 67, 66]\n",
      "[51, 51, 48, 45, 44]\n",
      "[97, 93, 92, 90, 88, 87, 84]\n",
      "[95, 91, 92, 90, 87]\n",
      "[48, 42, 39, 38, 37, 34, 31, 30]\n",
      "[61, 54, 53, 50, 48]\n",
      "[84, 83, 80, 81, 80]\n",
      "[14, 14, 11, 9, 6, 3, 2, 1]\n",
      "[80, 86, 88, 90, 91, 92, 93]\n",
      "[89, 88, 86, 83, 80, 77, 70]\n",
      "[87, 90, 91, 92, 96, 93]\n",
      "[5, 5, 8, 9, 12, 14, 15]\n",
      "[37, 38, 41, 44, 44, 45]\n",
      "[38, 39, 42, 45, 47, 49, 52, 57]\n",
      "[16, 14, 13, 13, 11, 8, 7]\n",
      "[2, 6, 8, 9, 11, 12, 15, 16]\n",
      "673\n"
     ]
    }
   ],
   "source": [
    "ans=0\n",
    "with open('Input_Day2.txt', 'r') as file:\n",
    "    # Read each line in the file\n",
    "    for line in file:\n",
    "        splitline= line.split(\" \")\n",
    "        for i in range(len(splitline)):\n",
    "            splitline[i] = int(splitline[i])\n",
    "        \n",
    "        if listIsSafe(splitline):\n",
    "            ans+=1\n",
    "        else:\n",
    "            for entry in splitline:\n",
    "                new_list = splitline[:]\n",
    "                new_list.remove(entry)\n",
    "                if(listIsSafe(new_list)):\n",
    "                    ret=1\n",
    "                    break\n",
    "                ret=0\n",
    "                \n",
    "            ans += ret\n",
    "            \n",
    "\n",
    "\n",
    "print(ans)"
   ]
  }
 ],
 "metadata": {
  "kernelspec": {
   "display_name": "Python 3",
   "language": "python",
   "name": "python3"
  },
  "language_info": {
   "codemirror_mode": {
    "name": "ipython",
    "version": 3
   },
   "file_extension": ".py",
   "mimetype": "text/x-python",
   "name": "python",
   "nbconvert_exporter": "python",
   "pygments_lexer": "ipython3",
   "version": "3.12.7"
  }
 },
 "nbformat": 4,
 "nbformat_minor": 2
}
