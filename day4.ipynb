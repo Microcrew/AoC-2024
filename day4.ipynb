{
 "cells": [
  {
   "cell_type": "code",
   "execution_count": 18,
   "metadata": {},
   "outputs": [],
   "source": [
    "def searchWord(matrix, row, col):\n",
    "    numberFound = 0\n",
    "    lookright = col < len(matrix[row])-3\n",
    "    lookleft = col >= 3\n",
    "    lookup = row >= 3\n",
    "    lookdown = row < len(matrix)-3\n",
    "\n",
    "    #look horizontal right\n",
    "    if lookright and (matrix[row][col + 1] == \"M\" and matrix[row][col + 2] == \"A\" and matrix[row][col + 3] == \"S\"):\n",
    "        numberFound += 1\n",
    "    \n",
    "    #look horizontal left\n",
    "    if lookleft and (matrix[row][col - 1] == \"M\" and matrix[row][col - 2] == \"A\" and matrix[row][col - 3] == \"S\"):\n",
    "        numberFound += 1\n",
    "\n",
    "    #look vertical down\n",
    "    if lookdown and (matrix[row + 1][col] == \"M\" and matrix[row + 2][col] == \"A\" and matrix[row + 3][col] == \"S\"):\n",
    "        numberFound += 1\n",
    "\n",
    "    #look vertical up\n",
    "    if lookup and (matrix[row - 1][col] == \"M\" and matrix[row - 2][col] == \"A\" and matrix[row - 3][col] == \"S\"):\n",
    "        numberFound += 1\n",
    "    \n",
    "    #look diagonal down right\n",
    "    if lookdown and lookright and (matrix[row + 1][col + 1] == \"M\" and matrix[row + 2][col + 2] == \"A\" and matrix[row + 3][col + 3] == \"S\"):\n",
    "        numberFound += 1\n",
    "\n",
    "    #look diagonal up right\n",
    "    if lookup and lookright and (matrix[row - 1][col + 1] == \"M\" and matrix[row - 2][col + 2] == \"A\" and matrix[row - 3][col + 3] == \"S\"):\n",
    "        numberFound += 1\n",
    "\n",
    "    #look diagonal down left\n",
    "    if lookdown and lookleft and (matrix[row + 1][col - 1] == \"M\" and matrix[row + 2][col - 2] == \"A\" and matrix[row + 3][col - 3] == \"S\"):\n",
    "        numberFound += 1\n",
    "\n",
    "    #look diagonal up left\n",
    "    if lookup and lookleft and (matrix[row - 1][col - 1] == \"M\" and matrix[row - 2][col - 2] == \"A\" and matrix[row - 3][col - 3] == \"S\"):\n",
    "        numberFound += 1\n",
    "\n",
    "    return numberFound\n"
   ]
  },
  {
   "cell_type": "code",
   "execution_count": 1,
   "metadata": {},
   "outputs": [],
   "source": [
    "def searchX_MAS(matrix, row, col):\n",
    "    numberFound = 0\n",
    "\n",
    "    downRight = matrix[row - 1][col - 1] == \"M\" and matrix[row + 1][col + 1] == \"S\"\n",
    "    downLeft = matrix[row - 1][col + 1] == \"M\" and matrix[row + 1][col - 1] == \"S\"\n",
    "    upRight = matrix[row + 1][col - 1] == \"M\" and matrix[row - 1][col + 1] == \"S\"\n",
    "    upLeft = matrix[row + 1][col + 1] == \"M\" and matrix[row - 1][col - 1] == \"S\"\n",
    "    \n",
    "    if (downRight + downLeft + upRight + upLeft == 2):\n",
    "        numberFound+=1\n",
    "\n",
    "    return numberFound\n"
   ]
  },
  {
   "cell_type": "code",
   "execution_count": 3,
   "metadata": {},
   "outputs": [],
   "source": [
    "matrix = []\n",
    "with open('Input_Day4.txt', 'r') as file:\n",
    "    # Read each line in the file\n",
    "    for line in file:\n",
    "        matrix.append(line)\n",
    "        \n"
   ]
  },
  {
   "cell_type": "code",
   "execution_count": null,
   "metadata": {},
   "outputs": [],
   "source": [
    "xmas = 0\n",
    "for row in range(len(matrix)):\n",
    "    for col in range(len(matrix[row])):\n",
    "        if matrix[row][col] == \"X\":\n",
    "            xmas += searchWord(matrix, row, col)\n",
    "\n",
    "\n",
    "print(xmas)\n"
   ]
  },
  {
   "cell_type": "code",
   "execution_count": 4,
   "metadata": {},
   "outputs": [
    {
     "name": "stdout",
     "output_type": "stream",
     "text": [
      "1877\n"
     ]
    }
   ],
   "source": [
    "x_mas = 0\n",
    "for row in range(1,len(matrix)-1):\n",
    "    for col in range(1,len(matrix[row])-1):\n",
    "        if matrix[row][col] == \"A\":\n",
    "            x_mas += searchX_MAS(matrix, row, col)\n",
    "\n",
    "print(x_mas)"
   ]
  }
 ],
 "metadata": {
  "kernelspec": {
   "display_name": "Python 3",
   "language": "python",
   "name": "python3"
  },
  "language_info": {
   "codemirror_mode": {
    "name": "ipython",
    "version": 3
   },
   "file_extension": ".py",
   "mimetype": "text/x-python",
   "name": "python",
   "nbconvert_exporter": "python",
   "pygments_lexer": "ipython3",
   "version": "3.12.7"
  }
 },
 "nbformat": 4,
 "nbformat_minor": 2
}
